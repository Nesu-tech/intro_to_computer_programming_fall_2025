{
  "cells": [
    {
      "cell_type": "markdown",
      "metadata": {
        "id": "hv9FopR_8yse"
      },
      "source": [
        "# Intro to Computer Programming - Midterm Exam - Wilmington College\n",
        "\n",
        "Dear Students,\n",
        "\n",
        "Welcome to Midterm Exam for the Intro to Computer Programming course.\n",
        "\n",
        "**Submission Instructions:**\n",
        "Please complete the midterm exam and submit it to the Blackboard. In case you encounter any issues or have questions, feel free to seek assistance from me.\n",
        "\n",
        "**Alternative Submission:**\n",
        "If, for any reason, you are unable to use BB, you can submit your work via email. If you face any challenges, don't hesitate to reach out."
      ]
    },
    {
      "cell_type": "markdown",
      "metadata": {
        "id": "tsulUzWn8ysf"
      },
      "source": [
        "### Problem 1: Student Grade Calculator\n",
        "**(25 Marks)**  \n",
        "Write a function named `calculate_grade()`. The function should take a list of numerical scores as input and return the average score and a corresponding letter grade. The letter grade should be assigned based on the average score using the following scale:\n",
        "- A: 90-100\n",
        "- B: 80-89\n",
        "- C: 70-79\n",
        "- D: 60-69\n",
        "- F: Below 60\n",
        "\n",
        "*Example input:*  \n",
        "`[85, 92, 78, 88, 95]`\n",
        "\n",
        "*Expected output:*  \n",
        "`Average Score: 87.6, Grade: B`"
      ]
    },
    {
      "cell_type": "code",
      "execution_count": 1,
      "metadata": {
        "vscode": {
          "languageId": "plaintext"
        },
        "colab": {
          "base_uri": "https://localhost:8080/"
        },
        "id": "PRAkN8os8ysf",
        "outputId": "673e11bd-8573-4d88-a80f-df3f186cb7c4"
      },
      "outputs": [
        {
          "output_type": "stream",
          "name": "stdout",
          "text": [
            "Enter scores (comma-separated): 85, 92, 78, 88, 95\n",
            "Average Score: 87.6, Grade: B\n"
          ]
        }
      ],
      "source": [
        "# -------------------- Solution ----------------------- #\n",
        "# Write your code here:\n",
        "def calculate_grade(scores):\n",
        "  avg = sum(scores) / len(scores)\n",
        "  grade = letter_grade(avg)\n",
        "  return f\"Average Score: {avg}, Grade: {grade}\"\n",
        "\n",
        "def letter_grade(avg):\n",
        "  if 90 <= avg <= 100:\n",
        "    return \"A\"\n",
        "  elif 80 <= avg <= 89:\n",
        "    return \"B\"\n",
        "  elif 70 <= avg <= 79:\n",
        "    return \"C\"\n",
        "  elif 60 <= avg <= 69:\n",
        "    return \"D\"\n",
        "  else:\n",
        "    return \"F\"\n",
        "\n",
        "# Get input from the user\n",
        "scores_str = input(\"Enter scores (comma-separated): \")\n",
        "\n",
        "# Convert the input string to a list of integers\n",
        "try:\n",
        "  scores = [int(score.strip()) for score in scores_str.split(',')]\n",
        "  # Calculate and display the result\n",
        "  result = calculate_grade(scores)\n",
        "  print(result)\n",
        "except ValueError:\n",
        "  print(\"Invalid input. Please enter scores as comma-separated numbers.\")"
      ]
    },
    {
      "cell_type": "markdown",
      "metadata": {
        "id": "GQmklzKo8ysg"
      },
      "source": [
        "### Problem 2: Simple ATM Simulation\n",
        "**(40 Marks)**  \n",
        "Create a simple ATM program with the following functionalities:\n",
        "1. Allow the user to input their PIN (for simplicity, just use \"1234\").\n",
        "2. Prompt the user for an action: \"Check Balance\", \"Deposit\", or \"Withdraw\".\n",
        "3. Implement each action using functions:\n",
        "   - `check_balance(balance)`: Prints the current balance.\n",
        "   - `deposit(balance, amount)`: Adds the deposit amount to the balance and returns the new balance.\n",
        "   - `withdraw(balance, amount)`: Subtracts the withdrawal amount from the balance (if sufficient funds are available) and returns the new balance.\n",
        "\n",
        "*Example session:*  \n",
        "- User inputs the correct PIN.  \n",
        "- User chooses \"Check Balance\".  \n",
        "- Output: `Current balance: $100`.  \n",
        "- User chooses \"Withdraw\" and inputs $30.  \n",
        "- Output: `Withdrawal successful! New balance: $70`."
      ]
    },
    {
      "cell_type": "code",
      "execution_count": 10,
      "metadata": {
        "vscode": {
          "languageId": "plaintext"
        },
        "colab": {
          "base_uri": "https://localhost:8080/"
        },
        "id": "gg_oiI288ysg",
        "outputId": "713a6292-efba-4589-c090-ed7ffd21ec6d"
      },
      "outputs": [
        {
          "output_type": "stream",
          "name": "stdout",
          "text": [
            "Welcome to the ATM\n",
            "Enter your PIN: 1234\n",
            "PIN accepted.\n",
            "\n",
            "Choose an option:\n",
            "1. Check Balance\n",
            "2. Deposit\n",
            "3. Withdraw\n",
            "4. View Transaction History\n",
            "5. Exit\n",
            "Enter your choice: 1\n",
            "Current balance: $100\n",
            "\n",
            "Choose an option:\n",
            "1. Check Balance\n",
            "2. Deposit\n",
            "3. Withdraw\n",
            "4. View Transaction History\n",
            "5. Exit\n",
            "Enter your choice: 3\n",
            "Enter amount to withdraw: 30\n",
            "Withdrawal successful! New balance: $70.0\n",
            "\n",
            "Choose an option:\n",
            "1. Check Balance\n",
            "2. Deposit\n",
            "3. Withdraw\n",
            "4. View Transaction History\n",
            "5. Exit\n",
            "Enter your choice: 5\n",
            "Thank you for using the ATM. Goodbye!\n"
          ]
        }
      ],
      "source": [
        "1# -------------------- Solution ----------------------- #\n",
        "# Write your code here:\n",
        "def atm_simulation():\n",
        "    pin = \"1234\"\n",
        "    balance = 100\n",
        "    transaction_history = []\n",
        "\n",
        "    print(\"Welcome to the ATM\")\n",
        "\n",
        "    # PIN input and validation\n",
        "    attempts = 0\n",
        "    while attempts < 3:\n",
        "        user_pin = input(\"Enter your PIN: \")\n",
        "        if user_pin == pin:\n",
        "            print(\"PIN accepted.\")\n",
        "            break\n",
        "        else:\n",
        "            attempts += 1\n",
        "            print(f\"Incorrect PIN. {3 - attempts} attempts remaining.\")\n",
        "    else:\n",
        "        print(\"Too many incorrect attempts. Exiting.\")\n",
        "        return\n",
        "\n",
        "    # ATM operations\n",
        "    while True:\n",
        "        print(\"\\nChoose an option:\")\n",
        "        print(\"1. Check Balance\")\n",
        "        print(\"2. Deposit\")\n",
        "        print(\"3. Withdraw\")\n",
        "        print(\"4. View Transaction History\")\n",
        "        print(\"5. Exit\")\n",
        "\n",
        "        choice = input(\"Enter your choice: \")\n",
        "\n",
        "        if choice == '1':\n",
        "            print(f\"Current balance: ${balance}\")\n",
        "        elif choice == '2':\n",
        "            try:\n",
        "                amount = float(input(\"Enter amount to deposit: \"))\n",
        "                if amount > 0:\n",
        "                    balance += amount\n",
        "                    transaction_history.append(f\"Deposit: ${amount}\")\n",
        "                    print(f\"Deposit successful! New balance: ${balance}\")\n",
        "                else:\n",
        "                    print(\"Invalid amount.\")\n",
        "            except ValueError:\n",
        "                print(\"Invalid input. Please enter a number.\")\n",
        "        elif choice == '3':\n",
        "            try:\n",
        "                amount = float(input(\"Enter amount to withdraw: \"))\n",
        "                if amount > 0 and amount <= balance:\n",
        "                    balance -= amount\n",
        "                    transaction_history.append(f\"Withdrawal: ${amount}\")\n",
        "                    print(f\"Withdrawal successful! New balance: ${balance}\")\n",
        "                elif amount > balance:\n",
        "                    print(\"Insufficient funds.\")\n",
        "                else:\n",
        "                    print(\"Invalid amount.\")\n",
        "            except ValueError:\n",
        "                print(\"Invalid input. Please enter a number.\")\n",
        "        elif choice == '4':\n",
        "            print(\"\\n--- Transaction History ---\")\n",
        "            if transaction_history:\n",
        "                for transaction in transaction_history:\n",
        "                    print(transaction)\n",
        "            else:\n",
        "                print(\"No transactions yet.\")\n",
        "            print(\"--------------------------\")\n",
        "        elif choice == '5':\n",
        "            print(\"Thank you for using the ATM. Goodbye!\")\n",
        "            break\n",
        "        else:\n",
        "            print(\"Invalid choice. Please try again.\")\n",
        "\n",
        "# Run the simulation\n",
        "atm_simulation()\n"
      ]
    },
    {
      "cell_type": "markdown",
      "metadata": {
        "id": "9XT77cJn8ysg"
      },
      "source": [
        "### Problem 3: Number Guessing Game\n",
        "**(25 Marks)**  \n",
        "Develop a simple number guessing game. The program should:\n",
        "1. Generate a random number between 1 and 100.\n",
        "2. Prompt the user to guess the number.\n",
        "3. Give hints if the guess is too high or too low.\n",
        "4. Keep track of the number of attempts until the user guesses the correct number.\n",
        "\n",
        "*Example interaction:*  \n",
        "- Random number is 42.  \n",
        "- User guesses 50 → Output: \"Too high!\"  \n",
        "- User guesses 30 → Output: \"Too low!\"  \n",
        "- User guesses 42 → Output: \"Correct! It took you 3 attempts.\""
      ]
    },
    {
      "cell_type": "code",
      "execution_count": 1,
      "metadata": {
        "vscode": {
          "languageId": "plaintext"
        },
        "colab": {
          "base_uri": "https://localhost:8080/"
        },
        "id": "VvfwZcII8ysg",
        "outputId": "dc7f8f9f-b1c3-4508-918a-777b8a4b0520"
      },
      "outputs": [
        {
          "output_type": "stream",
          "name": "stdout",
          "text": [
            "Welcome to the Number Guessing Game!\n",
            "I have selected a number between 1 and 100. Can you guess it\n",
            "Enter your guess: 50\n",
            "Too low!\n",
            "Enter your guess: 70\n",
            "Too low!\n",
            "Enter your guess: 90\n",
            "Too high!\n",
            "Enter your guess: 80\n",
            "Too low!\n",
            "Enter your guess: 85\n",
            "Too high!\n",
            "Enter your guess: 83\n",
            "Too low!\n",
            "Enter your guess: 84\n",
            "Correct! It took you 7 attempts.\n"
          ]
        }
      ],
      "source": [
        "# -------------------- Solution ----------------------- #\n",
        "# Write your code here:\n",
        "#import random number from math\n",
        "import random\n",
        "\n",
        "#Defining the function\n",
        "def number_guessing_game():\n",
        "  secret_number = random.randint(1, 100)\n",
        "  attempts = 0\n",
        "  guess = None\n",
        "\n",
        "  print(\"Welcome to the Number Guessing Game!\")\n",
        "  print(\"I have selected a number between 1 and 100. Can you guess it\")\n",
        "\n",
        "  while True: #To run the code for as long as numbers are betwee\n",
        "\n",
        "      guess = int(input(\"Enter your guess: \"))\n",
        "      attempts += 1\n",
        "\n",
        "      if guess < secret_number:\n",
        "        print(\"Too low!\")\n",
        "      elif guess > secret_number:\n",
        "        print(\"Too high!\")\n",
        "      else:\n",
        "        print(f\"Correct! It took you {attempts} attempts.\")\n",
        "        break # This break statement exits the while loop\n",
        "\n",
        "if __name__ == \"__main__\":\n",
        "  number_guessing_game()"
      ]
    },
    {
      "cell_type": "markdown",
      "metadata": {
        "id": "QhWj20Is8ysh"
      },
      "source": [
        "### Problem 4: Subscription Management\n",
        "**(10 Marks)**  \n",
        "Write a program that allows users to manage their subscriptions. Create a function `manage_subscription(tier=\"Basic\", name=\"Guest\", msg=\"\")` which:\n",
        "1. Prompts the user to enter their subscription tier (default to \"Basic\").\n",
        "2. Asks for their name (default to \"Guest\").\n",
        "3. Requests an optional message from the subscriber (default to an empty string).\n",
        "4. Prints a confirmation message showing the details of the subscription.\n",
        "\n",
        "*Example input:*  \n",
        "`manage_subscription(\"Premium\", \"Alex\", \"Excited to join!\")`\n",
        "\n",
        "*Expected output:*  \n",
        "`Alex subscribed to Premium tier: Excited to join!`"
      ]
    },
    {
      "cell_type": "code",
      "execution_count": 5,
      "metadata": {
        "vscode": {
          "languageId": "plaintext"
        },
        "colab": {
          "base_uri": "https://localhost:8080/"
        },
        "id": "pNPDXcbr8ysh",
        "outputId": "2625b71a-f229-4f9f-f1d7-c17f89d7b8d7"
      },
      "outputs": [
        {
          "output_type": "stream",
          "name": "stdout",
          "text": [
            "Welcome to the Subscription Management System\n",
            "Enter your subscription tier (default: Basic): Premium \n",
            "Enter your name (default: Guest): Alex \n",
            "Enter an optional message: Excited to join\n",
            "Alex  subscribed to Premium  tier: Excited to join\n"
          ]
        }
      ],
      "source": [
        "# -------------------- Solution ----------------------- #\n",
        "# Write your code here:\n",
        "def manage_subscription(tier=\"Basic\", name=\"Guest\", msg=\"\"):\n",
        "  \"\"\"\n",
        "  Manages user subscriptions and prints a confirmation message.\n",
        "\n",
        "  Args:\n",
        "    tier: The subscription tier (default: \"Basic\").\n",
        "    name: The subscriber's name (default: \"Guest\").\n",
        "    msg: An optional message from the subscriber (default: \"\").\n",
        "  \"\"\"\n",
        "  print(f\"{name} subscribed to {tier} tier: {msg}\")\n",
        "\n",
        "if __name__ == \"__main__\":\n",
        "  print(\"Welcome to the Subscription Management System\")\n",
        "\n",
        "  # Prompt user for input\n",
        "  user_tier = input(\"Enter your subscription tier (default: Basic): \")\n",
        "  user_name = input(\"Enter your name (default: Guest): \")\n",
        "  user_msg = input(\"Enter an optional message: \")\n",
        "\n",
        "  # Call the function with user input, using defaults if input is empty\n",
        "  manage_subscription(\n",
        "      tier=user_tier if user_tier else \"Basic\",\n",
        "      name=user_name if user_name else \"Guest\",\n",
        "      msg=user_msg\n",
        "  )"
      ]
    }
  ],
  "metadata": {
    "kernelspec": {
      "display_name": "Python 3",
      "language": "python",
      "name": "python3"
    },
    "language_info": {
      "codemirror_mode": {
        "name": "ipython",
        "version": 3
      },
      "file_extension": ".py",
      "mimetype": "text/x-python",
      "name": "python",
      "nbconvert_exporter": "python",
      "pygments_lexer": "ipython3",
      "version": "3.12.1"
    },
    "colab": {
      "provenance": []
    }
  },
  "nbformat": 4,
  "nbformat_minor": 0
}