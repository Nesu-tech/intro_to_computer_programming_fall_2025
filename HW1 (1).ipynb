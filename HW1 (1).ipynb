{
  "cells": [
    {
      "cell_type": "markdown",
      "metadata": {
        "id": "NaeSL5RB7WeA"
      },
      "source": [
        "# Intro to Computer Programming - Homework 1 - Fall 2024 - Wilmington College\n",
        "## Due Date: September 13, 2024, 11:30 AM (Before the Start of Our Class)\n",
        "\n",
        "Dear Students,\n",
        "\n",
        "Welcome to Homework 1 for the Intro to Computer Programming course.\n",
        "\n",
        "**Submission Instructions:**\n",
        "Please complete the homework and submit it to the Blackboard. In case you encounter any issues or have questions, feel free to seek assistance from me.\n",
        "\n",
        "**Alternative Submission:**\n",
        "If, for any reason, you are unable to use BB, you can submit your work via email.\n",
        "\n",
        "Remember, timely completion of assignments is crucial for your understanding of the course material. If you face any challenges, don't hesitate to reach out."
      ]
    },
    {
      "cell_type": "markdown",
      "metadata": {
        "id": "rf2xwDDT7WeB"
      },
      "source": [
        "**Exercise 1: Basic Input and Output**\n",
        "\n",
        "Write a program that asks the user for their name and age, then prints a greeting message that includes their name and how old they will be in five years.\n"
      ]
    },
    {
      "cell_type": "code",
      "execution_count": null,
      "metadata": {
        "id": "UDnwqUxT7WeC"
      },
      "outputs": [],
      "source": [
        "# Sample Output:\n",
        "# What is your name? John\n",
        "# How old are you? 25\n",
        "# Hello, John! In five years, you will be 30 years old.\n",
        "\n",
        "# -------------------- Solution ----------------------- #\n",
        "# Write your code here:\n",
        "name = input(\"What is your name? \")\n",
        "age = input(\"How old are you? \")\n",
        "age = int()\n",
        "age_in_five_years = age + 5\n",
        "print(\"Hello, \" + name + \"! In five years, you will be \" + str(age_in_five_years) + \" years old.\")"
      ]
    },
    {
      "cell_type": "markdown",
      "metadata": {
        "id": "vVJ35S0G7WeC"
      },
      "source": [
        "**Exercise 2: Arithmetic Operations**\n",
        "\n",
        "Create a program that asks the user to input two numbers and then outputs the result of adding, subtracting, multiplying, and dividing them.\n",
        "\n",
        "**Hint:** Use the arithmetic operators +, -, *, and /.\n",
        "\n",
        "**Extra Credit** Consider what should happen if the user inputs zero as the second number."
      ]
    },
    {
      "cell_type": "code",
      "execution_count": null,
      "metadata": {
        "id": "oIOdX0Om7WeC"
      },
      "outputs": [],
      "source": [
        "# Sample Output:\n",
        "# Enter the first number: 8\n",
        "# Enter the second number: 0\n",
        "# 8 + 0 = 8\n",
        "# 8 - 0 = 8\n",
        "# 8 * 0 = 0\n",
        "# 8 / 0 = Undifined\n",
        "\n",
        "# -------------------- Solution ----------------------- #\n",
        "# Write your code here:\n",
        "num1 = float(input(\"Enter the first number: \"))\n",
        "num2 = float(input(\"Enter the second number: \"))\n",
        "\n",
        "# Perform operations\n",
        "print(\"Addition:\", num1 + num2)\n",
        "print(\"Subtraction:\", num1 - num2)\n",
        "print(\"Multiplication:\", num1 * num2)\n",
        "print(\"Division:\", num1 / num2)"
      ]
    },
    {
      "cell_type": "markdown",
      "metadata": {
        "id": "iCMJF5NE7WeC"
      },
      "source": [
        "**Exercise 3: Documenting Code with Comments and Docstrings**\n",
        "\n",
        "Write a program that converts temperature from Fahrenheit to Celsius . Use comments to explain each part of your code and include a docstring at the beginning to describe the program's purpose.\n",
        "\n",
        "**Hint:** The formula for converting F to C is $C = (F - 32) * 5/9$.\n"
      ]
    },
    {
      "cell_type": "code",
      "execution_count": null,
      "metadata": {
        "id": "7kQfjaY_7WeC"
      },
      "outputs": [],
      "source": [
        "# -------------------- Solution ----------------------- #\n",
        "# Write your code here:\n",
        "\"\"\"Temperature Conversion\n",
        "Changing the temperature from Fahrenheit to Celsius, by subtracting 32 and multiplying by 5/9.\n",
        "\"\"\"\n",
        "#Ask the temperature in fahrenheit\n",
        "\n",
        "fahrenheit = int(input(\"Enter temperature in fahreinhet:\"))\n",
        "#Covert the temperature to celcius using the formula C= (F-32)*5/9\n",
        "\n",
        "celcius = (fahrenheit - 32) * 5 / 9\n",
        "\n",
        "#Display the result\n",
        "print(\"Temperature in Celcius is:\", celcius)\n"
      ]
    },
    {
      "cell_type": "markdown",
      "metadata": {
        "id": "c6bcvqbi7WeD"
      },
      "source": [
        "**Exercise 4: Debugging a Program with Multiple Errors**\n",
        "The following program contains three errors. Follow the steps to find and correct each error:\n",
        "\n",
        "Step 1: Run the program to identify the first error. Correct the line of code where the error occurs.\n",
        "Step 2: Run the program again to find and correct the second error.\n",
        "Step 3: Continue running and correcting the program until all errors are fixed and the program runs successfully."
      ]
    },
    {
      "cell_type": "code",
      "execution_count": null,
      "metadata": {
        "id": "qGJsQBug7WeD"
      },
      "outputs": [],
      "source": [
        "# Program to calculate the area of a rectangle\n",
        "\n",
        "length = float(input(\"Enter the length: \"))\n",
        "width = float(input(\"Enter the width: \"))\n",
        "\n",
        "area = lentgh * width\n",
        "print(\"The area of the rectangle is: \", area)\n",
        "#The error was that the other parenthsesis was missing for the width"
      ]
    },
    {
      "cell_type": "code",
      "execution_count": null,
      "metadata": {
        "id": "b-0WyfT-7WeD"
      },
      "outputs": [],
      "source": [
        "# -------------------- Solution ----------------------- #\n",
        "# Write your code here:\n",
        "length = float(input(\"Enter the length: \"))\n",
        "width = float(input(\"Enter the width: \"))\n",
        "\n",
        "area = length * width\n",
        "print(\"The area of the rectangle is: \", area)\n",
        "\n",
        "#The error was that the other parenthsesis was missing for the width\n",
        "# The other error is that length was written incorrectly on line  3\n",
        "\n"
      ]
    },
    {
      "cell_type": "markdown",
      "metadata": {
        "id": "kUlPGxLm7WeD"
      },
      "source": [
        "**Exercise 5: Exploring the Cause of an Error**\n",
        "Given the following error message, explain the cause of the error and how to fix it:\n",
        "\n",
        "``` python\n",
        "Traceback (most recent call last):\n",
        "  File \"/home/student/Desktop/calculator.py\", line 4\n",
        "    total = 5 + * 3\n",
        "                ^\n",
        "SyntaxError: invalid syntax\n",
        "```\n",
        "**Question:** What caused this error and how would you correct it?"
      ]
    },
    {
      "cell_type": "markdown",
      "metadata": {
        "id": "0OXDUL8P7WeD"
      },
      "source": [
        "**Solution**\n",
        "\n",
        "**Cause of the Error:** Type your answer:Two operators are next to each other, hence it will confuse the pyhton operator\n",
        "\n",
        "\n",
        "\n",
        "**How to Fix It:** Type your answer: Delete one of the operators, and use the one you need\n"
      ]
    }
  ],
  "metadata": {
    "kernelspec": {
      "display_name": "Python 3",
      "language": "python",
      "name": "python3"
    },
    "language_info": {
      "codemirror_mode": {
        "name": "ipython",
        "version": 3
      },
      "file_extension": ".py",
      "mimetype": "text/x-python",
      "name": "python",
      "nbconvert_exporter": "python",
      "pygments_lexer": "ipython3",
      "version": "3.12.1"
    },
    "colab": {
      "provenance": []
    }
  },
  "nbformat": 4,
  "nbformat_minor": 0
}